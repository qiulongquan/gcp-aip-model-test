{
  "nbformat": 4,
  "nbformat_minor": 0,
  "metadata": {
    "colab": {
      "name": "Keras07_hyperas.ipynb",
      "version": "0.3.2",
      "provenance": [],
      "collapsed_sections": [],
      "include_colab_link": true
    },
    "language_info": {
      "codemirror_mode": {
        "name": "ipython",
        "version": 3
      },
      "file_extension": ".py",
      "mimetype": "text/x-python",
      "name": "python",
      "nbconvert_exporter": "python",
      "pygments_lexer": "ipython3",
      "version": "3.6.8"
    },
    "kernelspec": {
      "display_name": "Python 3",
      "language": "python",
      "name": "python3"
    }
  },
  "cells": [
    {
      "cell_type": "markdown",
      "metadata": {
        "id": "view-in-github",
        "colab_type": "text"
      },
      "source": [
        "<a href=\"https://colab.research.google.com/github/YoheiFukuhara/keras-for-beginner/blob/master/Keras07_hyperas.ipynb\" target=\"_parent\"><img src=\"https://colab.research.google.com/assets/colab-badge.svg\" alt=\"Open In Colab\"/></a>"
      ]
    },
    {
      "cell_type": "markdown",
      "metadata": {
        "id": "J9s20jFLz4nK",
        "colab_type": "text"
      },
      "source": [
        "ブログ記事[「Hyperasを使ったKerasハイパーパラメータチューニング」](https://qiita.com/FukuharaYohei/items/c8cc9d80452350b449eb)にて解説。"
      ]
    },
    {
      "cell_type": "markdown",
      "metadata": {
        "id": "pU_tXxmFvZND",
        "colab_type": "text"
      },
      "source": [
        "# ライブラリインポート"
      ]
    },
    {
      "cell_type": "code",
      "metadata": {
        "id": "AvZlYJS0u6nN",
        "colab_type": "code",
        "colab": {}
      },
      "source": [
        "from tensorflow.keras.models import Sequential\n",
        "from tensorflow.keras.layers import Dense, Dropout\n",
        "\n",
        "from hyperopt import Trials, STATUS_OK, tpe, rand\n",
        "from hyperas import optim\n",
        "from hyperas.distributions import choice, uniform"
      ],
      "execution_count": 0,
      "outputs": []
    },
    {
      "cell_type": "markdown",
      "metadata": {
        "id": "6NdZM689ve9W",
        "colab_type": "text"
      },
      "source": [
        "#訓練データ設定"
      ]
    },
    {
      "cell_type": "code",
      "metadata": {
        "id": "_lta1RqVu6n6",
        "colab_type": "code",
        "colab": {}
      },
      "source": [
        "def data():\n",
        "    import numpy as np\n",
        "    x_train = np.random.rand(128, 2)\n",
        "    y_train = (np.sum(x_train, axis=1) > 1.0) * 1\n",
        "    y_train = y_train.reshape(128,1)\n",
        "    \n",
        "    return x_train, y_train"
      ],
      "execution_count": 0,
      "outputs": []
    },
    {
      "cell_type": "markdown",
      "metadata": {
        "id": "fCKO7HWLvltJ",
        "colab_type": "text"
      },
      "source": [
        "# モデル定義"
      ]
    },
    {
      "cell_type": "code",
      "metadata": {
        "id": "5pL8r2gSu6oT",
        "colab_type": "code",
        "colab": {}
      },
      "source": [
        "def create_model(x_train, y_train):\n",
        "    # Sequentialモデル使用(Sequentialモデルはレイヤを順に重ねたモデル)\n",
        "    model = Sequential()\n",
        "\n",
        "    # 結合層\n",
        "    model.add(Dense({{choice([8, 16, 32, 64, 128])}}, input_dim=2, activation=\"tanh\"))\n",
        "    \n",
        "    model.add(Dropout({{uniform(0, 1)}}))\n",
        "#    model.add(Dropout(0.2))\n",
        "\n",
        "    # 結合層：入力次元を省略すると自動的に前の層の出力次元数を引き継ぐ\n",
        "    model.add(Dense(1, activation=\"sigmoid\"))\n",
        "\n",
        "    # モデルをコンパイル\n",
        "    model.compile(loss=\"binary_crossentropy\",\n",
        "                  optimizer={{choice(['adam', 'sgd'])}},\n",
        "                  metrics=[\"accuracy\"])\n",
        "    \n",
        "    result = model.fit(x_train, y_train, epochs=30, validation_split=0.2, verbose=0)\n",
        "    \n",
        "    # 普通はここでevaluateしてその結果をチューニングに使うが、今回は簡易的に訓練時の結果を使用\n",
        "    \n",
        "    validation_acc = np.amax(result.history['val_acc']) \n",
        "    print('Best validation acc of epoch:', validation_acc)\n",
        "    \n",
        "    return {'loss': -validation_acc, 'status': STATUS_OK, 'model': model}"
      ],
      "execution_count": 0,
      "outputs": []
    },
    {
      "cell_type": "markdown",
      "metadata": {
        "id": "4N3JZ4jKvp6z",
        "colab_type": "text"
      },
      "source": [
        "# ハイパーパラメータチューニング実行"
      ]
    },
    {
      "cell_type": "code",
      "metadata": {
        "id": "NF62EeHUu6oq",
        "colab_type": "code",
        "outputId": "e93fc475-d038-4003-dcae-1fb4460468a6",
        "colab": {}
      },
      "source": [
        "best_run, best_model = optim.minimize(model=create_model,\n",
        "                                      data=data,\n",
        "                                      algo=tpe.suggest,\n",
        "                                      max_evals=3,\n",
        "                                      eval_space=True,\n",
        "                                      notebook_name='Keras07_hyperas', # This is important!\n",
        "                                      trials=Trials())"
      ],
      "execution_count": 0,
      "outputs": [
        {
          "output_type": "stream",
          "text": [
            ">>> Imports:\n",
            "#coding=utf-8\n",
            "\n",
            "try:\n",
            "    from tensorflow.keras.models import Sequential\n",
            "except:\n",
            "    pass\n",
            "\n",
            "try:\n",
            "    from tensorflow.keras.layers import Dense, Dropout\n",
            "except:\n",
            "    pass\n",
            "\n",
            "try:\n",
            "    from hyperopt import Trials, STATUS_OK, tpe, rand\n",
            "except:\n",
            "    pass\n",
            "\n",
            "try:\n",
            "    from hyperas import optim\n",
            "except:\n",
            "    pass\n",
            "\n",
            "try:\n",
            "    from hyperas.distributions import choice, uniform\n",
            "except:\n",
            "    pass\n",
            "\n",
            "try:\n",
            "    import numpy as np\n",
            "except:\n",
            "    pass\n",
            "\n",
            ">>> Hyperas search space:\n",
            "\n",
            "def get_space():\n",
            "    return {\n",
            "        'Dense': hp.choice('Dense', [8, 16, 32, 64, 128]),\n",
            "        'Dropout': hp.uniform('Dropout', 0, 1),\n",
            "        'optimizer': hp.choice('optimizer', ['adam', 'sgd']),\n",
            "    }\n",
            "\n",
            ">>> Data\n",
            "  1: \n",
            "  2: import numpy as np\n",
            "  3: x_train = np.random.rand(128, 2)\n",
            "  4: y_train = (np.sum(x_train, axis=1) > 1.0) * 1\n",
            "  5: y_train = y_train.reshape(128,1)\n",
            "  6: \n",
            "  7: \n",
            "  8: \n",
            "  9: \n",
            ">>> Resulting replaced keras model:\n",
            "\n",
            "  1: def keras_fmin_fnct(space):\n",
            "  2: \n",
            "  3:     # Sequentialモデル使用(Sequentialモデルはレイヤを順に重ねたモデル)\n",
            "  4:     model = Sequential()\n",
            "  5: \n",
            "  6:     # 結合層\n",
            "  7:     model.add(Dense(space['Dense'], input_dim=2, activation=\"tanh\"))\n",
            "  8:     \n",
            "  9:     model.add(Dropout(space['Dropout']))\n",
            " 10: #    model.add(Dropout(0.2))\n",
            " 11: \n",
            " 12:     # 結合層：入力次元を省略すると自動的に前の層の出力次元数を引き継ぐ\n",
            " 13:     model.add(Dense(1, activation=\"sigmoid\"))\n",
            " 14: \n",
            " 15:     # モデルをコンパイル\n",
            " 16:     model.compile(loss=\"binary_crossentropy\",\n",
            " 17:                   optimizer=space['optimizer'],\n",
            " 18:                   metrics=[\"accuracy\"])\n",
            " 19:     \n",
            " 20:     result = model.fit(x_train, y_train, epochs=30, validation_split=0.2, verbose=0)\n",
            " 21:     \n",
            " 22:     \n",
            " 23:     # 普通はここでevaluateしてその結果を使うが、今回は簡易的に訓練時の結果を使用\n",
            " 24:     \n",
            " 25:     validation_acc = np.amax(result.history['val_acc']) \n",
            " 26:     print('Best validation acc of epoch:', validation_acc)\n",
            " 27:     \n",
            " 28:     return {'loss': -validation_acc, 'status': STATUS_OK, 'model': model}\n",
            " 29: \n",
            "  0%|          | 0/3 [00:00<?, ?it/s, best loss: ?]WARNING:tensorflow:From /home/i348221/Apps/python/venv/py36/lib/python3.6/site-packages/tensorflow/python/ops/resource_variable_ops.py:435: colocate_with (from tensorflow.python.framework.ops) is deprecated and will be removed in a future version.\n",
            "Instructions for updating:\n",
            "Colocations handled automatically by placer.\n",
            "WARNING:tensorflow:From /home/i348221/Apps/python/venv/py36/lib/python3.6/site-packages/tensorflow/python/keras/layers/core.py:143: calling dropout (from tensorflow.python.ops.nn_ops) with keep_prob is deprecated and will be removed in a future version.\n",
            "Instructions for updating:\n",
            "Please use `rate` instead of `keep_prob`. Rate should be set to `rate = 1 - keep_prob`.\n",
            "WARNING:tensorflow:From /home/i348221/Apps/python/venv/py36/lib/python3.6/site-packages/tensorflow/python/ops/math_ops.py:3066: to_int32 (from tensorflow.python.ops.math_ops) is deprecated and will be removed in a future version.\n",
            "Instructions for updating:\n",
            "Use tf.cast instead.\n",
            "Best validation acc of epoch:\n",
            "0.88461536\n",
            "Best validation acc of epoch:\n",
            "0.9230769\n",
            "Best validation acc of epoch:\n",
            "0.7692308\n",
            "100%|██████████| 3/3 [00:08<00:00,  3.04s/it, best loss: -0.9230769276618958]\n"
          ],
          "name": "stdout"
        }
      ]
    },
    {
      "cell_type": "code",
      "metadata": {
        "id": "WuIn-9eku6pT",
        "colab_type": "code",
        "outputId": "5b402218-15cd-4f2f-f1f0-fa6f1bb739a4",
        "colab": {}
      },
      "source": [
        "x_test, y_test = data()\n",
        "print(\"Evalutation of best performing model:\")\n",
        "print(best_model.evaluate(x_test, y_test))"
      ],
      "execution_count": 0,
      "outputs": [
        {
          "output_type": "stream",
          "text": [
            "Evalutation of best performing model:\n",
            "128/128 [==============================] - 0s 99us/sample - loss: 0.4846 - acc: 0.9141\n",
            "[0.4846123978495598, 0.9140625]\n"
          ],
          "name": "stdout"
        }
      ]
    },
    {
      "cell_type": "code",
      "metadata": {
        "id": "U_rnAvvlu6pp",
        "colab_type": "code",
        "outputId": "7e6d6d13-760f-4353-c000-43b1b4ab748a",
        "colab": {}
      },
      "source": [
        "print(\"Best performing model chosen hyper-parameters:\")\n",
        "#print(best_run)\n",
        "best_run"
      ],
      "execution_count": 0,
      "outputs": [
        {
          "output_type": "stream",
          "text": [
            "Best performing model chosen hyper-parameters:\n"
          ],
          "name": "stdout"
        },
        {
          "output_type": "execute_result",
          "data": {
            "text/plain": [
              "{'Dense': 128, 'Dropout': 0.23316134447477344, 'optimizer': 'adam'}"
            ]
          },
          "metadata": {
            "tags": []
          },
          "execution_count": 6
        }
      ]
    }
  ]
}